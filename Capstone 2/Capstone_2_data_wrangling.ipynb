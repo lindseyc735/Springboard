{
 "cells": [
  {
   "cell_type": "markdown",
   "id": "3e156100-28cd-429b-9bc9-d5a71c821357",
   "metadata": {},
   "source": [
    "<h1><u>Data Wrangling - Coffee Shop</u>"
   ]
  },
  {
   "cell_type": "markdown",
   "id": "1ce99123-6c8a-4365-a4b4-e445cc7add4b",
   "metadata": {},
   "source": [
    "<u>**Problem Statement:**</u>\n",
    "<br>What three features most affect the price per ounce of coffee?\n",
    "\n",
    "<u>**Context:**</u>\n",
    "<br>A start-up coffee company is creating their signature blend to sell alongside the more generic blends of coffee. The start-up needs to know what three features to primarily incorporate into their signature blend to maximize its popularity and distinguish their company from other coffee companies.\n",
    "\n",
    "<u>**Criteria for Success:**</u>\n",
    "<br>Determine the three coffee features that will create a popular, signature blend of coffee.\n",
    "\n",
    "<u>**Scope of Solution Space:**</u>\n",
    "<br>Rating\n",
    "<br>Acidity\n",
    "<br>Aftertaste\n",
    "<br>Aroma\n",
    "<br>Body\n",
    "<br>Flavor\n",
    "<br>Review description\n",
    "<br>Country of origin\n",
    "<br>Roast level\n",
    "<br>Roaster\n",
    "<br>Roaster locatiion"
   ]
  },
  {
   "cell_type": "markdown",
   "id": "2c57c882-37c0-4ecf-80f4-fc4b94ea6480",
   "metadata": {},
   "source": [
    "<h3> Data Collection"
   ]
  },
  {
   "cell_type": "markdown",
   "id": "a6d0d1a0-4d3c-4748-aa97-ff9c437badeb",
   "metadata": {},
   "source": [
    "My first step was to import os to access my local device operating system, and import pandas, matplotlib.pyplot, and seaborn to manage the data set and begin exploring the data.\n",
    "\n",
    "Next I imported the dataset I found on Kaggle: https://www.kaggle.com/datasets/patkle/coffeereviewcom-over-7000-ratings-and-reviews\n",
    "I initially recieved an error message, but found I had to use double slashes insetaed of single slashes in the CSV file address pathway for the data to import into my JupyterLab notebook."
   ]
  },
  {
   "cell_type": "code",
   "execution_count": 1,
   "id": "c946f9c4-b48c-40ef-89d6-6b7eb68845d2",
   "metadata": {},
   "outputs": [],
   "source": [
    "import pandas as pd\n",
    "import matplotlib.pyplot as plt\n",
    "import seaborn as sns\n",
    "import os"
   ]
  },
  {
   "cell_type": "code",
   "execution_count": 2,
   "id": "a0763fd2-07ad-41f2-bd73-50a3a32520d6",
   "metadata": {},
   "outputs": [],
   "source": [
    "df = pd.read_csv(\"C:\\\\Users\\\\linds\\\\OneDrive\\\\Desktop\\\\LC_Springboard\\\\reviews_feb_2023.csv\")"
   ]
  },
  {
   "cell_type": "markdown",
   "id": "7caaf634-746d-49af-987a-a6cfa4f3eded",
   "metadata": {},
   "source": [
    "<h3> Data Definition"
   ]
  },
  {
   "cell_type": "markdown",
   "id": "68a389f4-3819-4a28-a4e7-f6a00654e1b7",
   "metadata": {},
   "source": [
    "My first step in assessing the data cleaning needs was to view the first five entries of the data set using the head() fucntion."
   ]
  },
  {
   "cell_type": "code",
   "execution_count": 3,
   "id": "2cbc3db5-cafe-4535-8403-ebe751c91a4a",
   "metadata": {
    "tags": []
   },
   "outputs": [
    {
     "name": "stdout",
     "output_type": "stream",
     "text": [
      "                                         title rating  acidity_structure  \\\n",
      "0                      Bolivia Manantial Gesha     93                9.0   \n",
      "1  Yellow Pacamara Carbonic Maceration Nanolot     92                8.0   \n",
      "2                   Ethiopia Gera Genji Challa     94                9.0   \n",
      "3                 Yirgacheffe Mengesha Natural     94                9.0   \n",
      "4           Tropical Summer Colombia La Sierra     93                9.0   \n",
      "\n",
      "   aftertaste aroma body flavor with_milk agtron  \\\n",
      "0         8.0     9    8      9       NaN  60/78   \n",
      "1         8.0     9    8      9       NaN  60/78   \n",
      "2         8.0     9    9      9       NaN  59/77   \n",
      "3         8.0     9    9      9       NaN  60/77   \n",
      "4         8.0     9    8      9       NaN  60/77   \n",
      "\n",
      "                                    blind_assessment  \\\n",
      "0  Richly aromatic, floral-toned. Magnolia, cocoa...   \n",
      "1  Crisply sweet-savory. White peach, hop flowers...   \n",
      "2  Delicately aromatic, complex. Lilac, cocoa nib...   \n",
      "3  High-toned, fruit-driven. Boysenberry, pear, c...   \n",
      "4  Fruit-driven, crisply chocolaty. Goji berry, d...   \n",
      "\n",
      "                                         bottom_line  \\\n",
      "0  This washed Boliva Gesha has all the aromatics...   \n",
      "1  A carbonic-macerated Yellow Pacamara grown in ...   \n",
      "2  A nuanced, multilayered washed Ethiopia cup wi...   \n",
      "3  A fruit medley in a cup — think boysenberry an...   \n",
      "4  An experimentally processed Colombia, sweetly ...   \n",
      "\n",
      "                                    coffee_origin          est_price  \\\n",
      "0                               Caranavi, Bolivia   $30.00/12 ounces   \n",
      "1             Matagalpa growing region, Nicaragua  $160.00/12 ounces   \n",
      "2  Agaro Gera, Jimma Zone, Oromia State, Ethiopia   $28.00/12 ounces   \n",
      "3   Yirgacheffe growing region, southern Ethiopia   $20.50/12 ounces   \n",
      "4           La Sierra, Cauca Department, Colombia    $18.99/8 ounces   \n",
      "\n",
      "                                               notes    review_date  \\\n",
      "0  Produced by Angel Mamani Chambi, entirely of t...   January 2023   \n",
      "1  Produced by Benjamin Weiner at Finca Idealista...  December 2022   \n",
      "2  Ethiopia coffees like this one are largely pro...  December 2022   \n",
      "3  Produced at Mengesha Farm from selections of i...  November 2022   \n",
      "4  Produced by smallholding farmers from trees of...  November 2022   \n",
      "\n",
      "    roast_level                     roaster        roaster_location  \\\n",
      "0  Medium-Light  Red Rooster Coffee Roaster         Floyd, Virginia   \n",
      "1  Medium-Light     Eccentricity Coffee Co.         Cleveland, Ohio   \n",
      "2  Medium-Light               Mostra Coffee   San Diego, California   \n",
      "3  Medium-Light               Regent Coffee    Glendale, California   \n",
      "4  Medium-Light        Merge Coffee Company  Harrisonburg, Virginia   \n",
      "\n",
      "                                                 url  \n",
      "0  https://www.coffeereview.com/review/bolivia-ma...  \n",
      "1  https://www.coffeereview.com/review/brix-break...  \n",
      "2  https://www.coffeereview.com/review/ethiopia-g...  \n",
      "3  https://www.coffeereview.com/review/yirgacheff...  \n",
      "4  https://www.coffeereview.com/review/tropical-s...  \n"
     ]
    }
   ],
   "source": [
    "print(df.head())"
   ]
  },
  {
   "cell_type": "markdown",
   "id": "38af9c21-5440-465e-8efd-0bc2dea5856f",
   "metadata": {},
   "source": [
    "Already, it looks as though the with_milk column will be problematic due to null values. \n",
    "<br> This lead me to analyze the column .info() to see what type of information each category containted, and how many values were non-null."
   ]
  },
  {
   "cell_type": "code",
   "execution_count": 4,
   "id": "18d1d3fc-69aa-429c-9812-e249f5c5bbfa",
   "metadata": {
    "tags": []
   },
   "outputs": [
    {
     "name": "stdout",
     "output_type": "stream",
     "text": [
      "<class 'pandas.core.frame.DataFrame'>\n",
      "RangeIndex: 7041 entries, 0 to 7040\n",
      "Data columns (total 19 columns):\n",
      " #   Column             Non-Null Count  Dtype  \n",
      "---  ------             --------------  -----  \n",
      " 0   title              7041 non-null   object \n",
      " 1   rating             7041 non-null   object \n",
      " 2   acidity_structure  2166 non-null   float64\n",
      " 3   aftertaste         6169 non-null   float64\n",
      " 4   aroma              6991 non-null   object \n",
      " 5   body               7030 non-null   object \n",
      " 6   flavor             7025 non-null   object \n",
      " 7   with_milk          997 non-null    object \n",
      " 8   agtron             7041 non-null   object \n",
      " 9   blind_assessment   7040 non-null   object \n",
      " 10  bottom_line        2961 non-null   object \n",
      " 11  coffee_origin      6536 non-null   object \n",
      " 12  est_price          5002 non-null   object \n",
      " 13  notes              7033 non-null   object \n",
      " 14  review_date        7041 non-null   object \n",
      " 15  roast_level        6667 non-null   object \n",
      " 16  roaster            7041 non-null   object \n",
      " 17  roaster_location   7038 non-null   object \n",
      " 18  url                7041 non-null   object \n",
      "dtypes: float64(2), object(17)\n",
      "memory usage: 1.0+ MB\n",
      "None\n"
     ]
    }
   ],
   "source": [
    "print(df.info())"
   ]
  },
  {
   "cell_type": "markdown",
   "id": "e0178ac1-6561-44d7-bd52-e450c2113cb5",
   "metadata": {},
   "source": [
    "From the initilal info() reading, it is confirmed that the with_milk column has very few useable entries. I calculated the number of missing values in the each columm to further determine how much useable data is present. I found both the count of missing values and percentage of the column's data that represented missing values."
   ]
  },
  {
   "cell_type": "code",
   "execution_count": 5,
   "id": "9a0e5a15-becf-4102-b1ef-53908dfbaa81",
   "metadata": {},
   "outputs": [
    {
     "data": {
      "text/html": [
       "<div>\n",
       "<style scoped>\n",
       "    .dataframe tbody tr th:only-of-type {\n",
       "        vertical-align: middle;\n",
       "    }\n",
       "\n",
       "    .dataframe tbody tr th {\n",
       "        vertical-align: top;\n",
       "    }\n",
       "\n",
       "    .dataframe thead th {\n",
       "        text-align: right;\n",
       "    }\n",
       "</style>\n",
       "<table border=\"1\" class=\"dataframe\">\n",
       "  <thead>\n",
       "    <tr style=\"text-align: right;\">\n",
       "      <th></th>\n",
       "      <th>count</th>\n",
       "      <th>%</th>\n",
       "    </tr>\n",
       "  </thead>\n",
       "  <tbody>\n",
       "    <tr>\n",
       "      <th>with_milk</th>\n",
       "      <td>6044</td>\n",
       "      <td>85.840080</td>\n",
       "    </tr>\n",
       "    <tr>\n",
       "      <th>acidity_structure</th>\n",
       "      <td>4875</td>\n",
       "      <td>69.237324</td>\n",
       "    </tr>\n",
       "    <tr>\n",
       "      <th>bottom_line</th>\n",
       "      <td>4080</td>\n",
       "      <td>57.946314</td>\n",
       "    </tr>\n",
       "    <tr>\n",
       "      <th>est_price</th>\n",
       "      <td>2039</td>\n",
       "      <td>28.958955</td>\n",
       "    </tr>\n",
       "    <tr>\n",
       "      <th>aftertaste</th>\n",
       "      <td>872</td>\n",
       "      <td>12.384604</td>\n",
       "    </tr>\n",
       "    <tr>\n",
       "      <th>coffee_origin</th>\n",
       "      <td>505</td>\n",
       "      <td>7.172277</td>\n",
       "    </tr>\n",
       "    <tr>\n",
       "      <th>roast_level</th>\n",
       "      <td>374</td>\n",
       "      <td>5.311745</td>\n",
       "    </tr>\n",
       "    <tr>\n",
       "      <th>aroma</th>\n",
       "      <td>50</td>\n",
       "      <td>0.710126</td>\n",
       "    </tr>\n",
       "    <tr>\n",
       "      <th>flavor</th>\n",
       "      <td>16</td>\n",
       "      <td>0.227240</td>\n",
       "    </tr>\n",
       "    <tr>\n",
       "      <th>body</th>\n",
       "      <td>11</td>\n",
       "      <td>0.156228</td>\n",
       "    </tr>\n",
       "    <tr>\n",
       "      <th>notes</th>\n",
       "      <td>8</td>\n",
       "      <td>0.113620</td>\n",
       "    </tr>\n",
       "    <tr>\n",
       "      <th>roaster_location</th>\n",
       "      <td>3</td>\n",
       "      <td>0.042608</td>\n",
       "    </tr>\n",
       "    <tr>\n",
       "      <th>blind_assessment</th>\n",
       "      <td>1</td>\n",
       "      <td>0.014203</td>\n",
       "    </tr>\n",
       "    <tr>\n",
       "      <th>title</th>\n",
       "      <td>0</td>\n",
       "      <td>0.000000</td>\n",
       "    </tr>\n",
       "    <tr>\n",
       "      <th>rating</th>\n",
       "      <td>0</td>\n",
       "      <td>0.000000</td>\n",
       "    </tr>\n",
       "    <tr>\n",
       "      <th>agtron</th>\n",
       "      <td>0</td>\n",
       "      <td>0.000000</td>\n",
       "    </tr>\n",
       "    <tr>\n",
       "      <th>review_date</th>\n",
       "      <td>0</td>\n",
       "      <td>0.000000</td>\n",
       "    </tr>\n",
       "    <tr>\n",
       "      <th>roaster</th>\n",
       "      <td>0</td>\n",
       "      <td>0.000000</td>\n",
       "    </tr>\n",
       "    <tr>\n",
       "      <th>url</th>\n",
       "      <td>0</td>\n",
       "      <td>0.000000</td>\n",
       "    </tr>\n",
       "  </tbody>\n",
       "</table>\n",
       "</div>"
      ],
      "text/plain": [
       "                   count          %\n",
       "with_milk           6044  85.840080\n",
       "acidity_structure   4875  69.237324\n",
       "bottom_line         4080  57.946314\n",
       "est_price           2039  28.958955\n",
       "aftertaste           872  12.384604\n",
       "coffee_origin        505   7.172277\n",
       "roast_level          374   5.311745\n",
       "aroma                 50   0.710126\n",
       "flavor                16   0.227240\n",
       "body                  11   0.156228\n",
       "notes                  8   0.113620\n",
       "roaster_location       3   0.042608\n",
       "blind_assessment       1   0.014203\n",
       "title                  0   0.000000\n",
       "rating                 0   0.000000\n",
       "agtron                 0   0.000000\n",
       "review_date            0   0.000000\n",
       "roaster                0   0.000000\n",
       "url                    0   0.000000"
      ]
     },
     "execution_count": 5,
     "metadata": {},
     "output_type": "execute_result"
    }
   ],
   "source": [
    "missing = pd.concat([df.isnull().sum(), 100 * df.isnull().mean()], axis=1)\n",
    "missing.columns=['count', '%']\n",
    "missing.sort_values(by=['count', '%'], ascending = False)"
   ]
  },
  {
   "cell_type": "markdown",
   "id": "35bdfc77-ec47-4879-9dba-46c27e967ca8",
   "metadata": {},
   "source": [
    "I will drop the with_milk column since it is nearly 86% null values, and is not included in my problem statement's scope of solution. However, the acidity structure may prove important, and I need to decide what do to with the near 69% null values. "
   ]
  },
  {
   "cell_type": "code",
   "execution_count": 6,
   "id": "a6fd75f0-5faf-4b45-8b95-3122586a5a1e",
   "metadata": {},
   "outputs": [],
   "source": [
    "df1 = df.drop('with_milk', axis=1, inplace = False)"
   ]
  },
  {
   "cell_type": "code",
   "execution_count": 7,
   "id": "679b4488-1a4c-4fe1-8327-bbee8709b4fc",
   "metadata": {
    "tags": []
   },
   "outputs": [
    {
     "name": "stdout",
     "output_type": "stream",
     "text": [
      "<class 'pandas.core.frame.DataFrame'>\n",
      "RangeIndex: 7041 entries, 0 to 7040\n",
      "Data columns (total 18 columns):\n",
      " #   Column             Non-Null Count  Dtype  \n",
      "---  ------             --------------  -----  \n",
      " 0   title              7041 non-null   object \n",
      " 1   rating             7041 non-null   object \n",
      " 2   acidity_structure  2166 non-null   float64\n",
      " 3   aftertaste         6169 non-null   float64\n",
      " 4   aroma              6991 non-null   object \n",
      " 5   body               7030 non-null   object \n",
      " 6   flavor             7025 non-null   object \n",
      " 7   agtron             7041 non-null   object \n",
      " 8   blind_assessment   7040 non-null   object \n",
      " 9   bottom_line        2961 non-null   object \n",
      " 10  coffee_origin      6536 non-null   object \n",
      " 11  est_price          5002 non-null   object \n",
      " 12  notes              7033 non-null   object \n",
      " 13  review_date        7041 non-null   object \n",
      " 14  roast_level        6667 non-null   object \n",
      " 15  roaster            7041 non-null   object \n",
      " 16  roaster_location   7038 non-null   object \n",
      " 17  url                7041 non-null   object \n",
      "dtypes: float64(2), object(16)\n",
      "memory usage: 990.3+ KB\n",
      "None\n"
     ]
    }
   ],
   "source": [
    "print(df1.info())"
   ]
  },
  {
   "cell_type": "markdown",
   "id": "3d3488ba-1494-4099-9268-b5f093e23856",
   "metadata": {},
   "source": [
    "According to the info() print out, rating, acidity structure, aftertaste, aroma, body, and flavor columns should be numeric rather than object categories.\n",
    "<br>I analyzed the unique values of each column to determine how many (if any) missing values the columns had, and and converted the column types to numeric forms so I could analyze the average of each feature."
   ]
  },
  {
   "cell_type": "code",
   "execution_count": 8,
   "id": "cf3df648-8055-46fb-8f67-3e4a7e25bc4a",
   "metadata": {},
   "outputs": [
    {
     "data": {
      "text/plain": [
       "93    1368\n",
       "92    1104\n",
       "94     981\n",
       "90     633\n",
       "91     631\n",
       "95     473\n",
       "88     316\n",
       "89     309\n",
       "87     248\n",
       "85     155\n",
       "86     150\n",
       "96     137\n",
       "84      96\n",
       "83      55\n",
       "80      53\n",
       "81      49\n",
       "79      46\n",
       "82      45\n",
       "78      44\n",
       "97      34\n",
       "77      22\n",
       "76      15\n",
       "73      14\n",
       "75      11\n",
       "74       8\n",
       "72       8\n",
       "71       8\n",
       "68       6\n",
       "70       4\n",
       "NR       4\n",
       "67       3\n",
       "98       3\n",
       "63       2\n",
       "65       2\n",
       "69       1\n",
       "66       1\n",
       "52       1\n",
       "60       1\n",
       "Name: rating, dtype: int64"
      ]
     },
     "execution_count": 8,
     "metadata": {},
     "output_type": "execute_result"
    }
   ],
   "source": [
    "df1['rating'].value_counts()"
   ]
  },
  {
   "cell_type": "markdown",
   "id": "a4fa4960-d8c8-40c4-9b04-f6425c91d455",
   "metadata": {},
   "source": [
    "Since the rating category only had four entries that were not rated, I decided to drop these columns."
   ]
  },
  {
   "cell_type": "code",
   "execution_count": 9,
   "id": "b9288a5f-ceb6-4d23-931f-3b4f85393faf",
   "metadata": {},
   "outputs": [],
   "source": [
    "df1 = df1.drop(df1[df1['rating']=='NR'].index)"
   ]
  },
  {
   "cell_type": "code",
   "execution_count": 10,
   "id": "1445c261-2104-42eb-ba57-c532d3748563",
   "metadata": {},
   "outputs": [
    {
     "name": "stdout",
     "output_type": "stream",
     "text": [
      "int64\n"
     ]
    }
   ],
   "source": [
    "df1['rating'] = pd.to_numeric(df1['rating'], errors='coerce')\n",
    "print(df1['rating'].dtype)"
   ]
  },
  {
   "cell_type": "code",
   "execution_count": 11,
   "id": "6175d62f-ecc5-4a90-82a9-5037fb04ed56",
   "metadata": {},
   "outputs": [
    {
     "data": {
      "text/plain": [
       "9      3666\n",
       "8      2292\n",
       "7       619\n",
       "6       164\n",
       "10      111\n",
       "5        55\n",
       "4        21\n",
       "3         6\n",
       "5.8       6\n",
       "6.3       4\n",
       "5.1       4\n",
       "6.1       4\n",
       "5.6       4\n",
       "5.7       3\n",
       "5.4       3\n",
       "7.2       3\n",
       "2         3\n",
       "4.8       2\n",
       "5.2       2\n",
       "7.6       2\n",
       "7.5       2\n",
       "6.2       2\n",
       "4.3       2\n",
       "7.4       1\n",
       "4.7       1\n",
       "6.5       1\n",
       "6.4       1\n",
       "5.9       1\n",
       "4.5       1\n",
       "4.9       1\n",
       "Name: aroma, dtype: int64"
      ]
     },
     "execution_count": 11,
     "metadata": {},
     "output_type": "execute_result"
    }
   ],
   "source": [
    "df1['aroma'].value_counts()"
   ]
  },
  {
   "cell_type": "code",
   "execution_count": 12,
   "id": "111fadb3-297c-4bb8-8683-387d298cb831",
   "metadata": {},
   "outputs": [
    {
     "name": "stdout",
     "output_type": "stream",
     "text": [
      "float64\n"
     ]
    }
   ],
   "source": [
    "df1['aroma'] = pd.to_numeric(df1['aroma'], errors='coerce')\n",
    "print(df1['aroma'].dtype)"
   ]
  },
  {
   "cell_type": "code",
   "execution_count": 13,
   "id": "abfe4b3a-b246-4bb9-ac47-28c88dab1fe7",
   "metadata": {},
   "outputs": [
    {
     "data": {
      "text/plain": [
       "8      3309\n",
       "9      2401\n",
       "7       966\n",
       "6       230\n",
       "5        59\n",
       "4         7\n",
       "10        5\n",
       "5.7       5\n",
       "5.3       5\n",
       "5.8       4\n",
       "6.4       4\n",
       "5.9       3\n",
       "5.5       3\n",
       "5.2       3\n",
       "5.1       3\n",
       "5.6       3\n",
       "6.3       2\n",
       "7.1       2\n",
       "5.4       2\n",
       "6.1       2\n",
       "6.2       2\n",
       "6.7       1\n",
       "7.3       1\n",
       "6.6       1\n",
       "4.8       1\n",
       "4.3       1\n",
       "4.9       1\n",
       "Name: body, dtype: int64"
      ]
     },
     "execution_count": 13,
     "metadata": {},
     "output_type": "execute_result"
    }
   ],
   "source": [
    "df1['body'].value_counts()"
   ]
  },
  {
   "cell_type": "code",
   "execution_count": 14,
   "id": "a28a052a-6d1f-4df1-822d-3667c9d259f5",
   "metadata": {},
   "outputs": [
    {
     "name": "stdout",
     "output_type": "stream",
     "text": [
      "float64\n"
     ]
    }
   ],
   "source": [
    "df1['body'] = pd.to_numeric(df1['body'], errors='coerce')\n",
    "print(df1['body'].dtype)"
   ]
  },
  {
   "cell_type": "code",
   "execution_count": 15,
   "id": "5f1cb3ab-8b88-4f3b-86ce-f3de372464e1",
   "metadata": {},
   "outputs": [
    {
     "data": {
      "text/plain": [
       "9      4144\n",
       "8      1711\n",
       "7       565\n",
       "10      243\n",
       "6       170\n",
       "5        89\n",
       "4        29\n",
       "3        13\n",
       "5.3       6\n",
       "5.7       5\n",
       "5.8       4\n",
       "7.4       3\n",
       "6.5       3\n",
       "6.1       3\n",
       "6.7       3\n",
       "6.9       3\n",
       "2         3\n",
       "7.3       2\n",
       "5.6       2\n",
       "3.7       2\n",
       "7.7       2\n",
       "8.1       1\n",
       "5.5       1\n",
       "4.6       1\n",
       "4.8       1\n",
       "5.1       1\n",
       "4.9       1\n",
       "4.4       1\n",
       "1         1\n",
       "7.1       1\n",
       "3.9       1\n",
       "6.2       1\n",
       "6.4       1\n",
       "4.2       1\n",
       "5.2       1\n",
       "6.8       1\n",
       "5.4       1\n",
       "Name: flavor, dtype: int64"
      ]
     },
     "execution_count": 15,
     "metadata": {},
     "output_type": "execute_result"
    }
   ],
   "source": [
    "df1['flavor'].value_counts()"
   ]
  },
  {
   "cell_type": "code",
   "execution_count": 16,
   "id": "bb557af8-6fa6-40cf-be93-f4550b1a7e5c",
   "metadata": {},
   "outputs": [
    {
     "name": "stdout",
     "output_type": "stream",
     "text": [
      "float64\n"
     ]
    }
   ],
   "source": [
    "df1['flavor'] = pd.to_numeric(df1['flavor'], errors='coerce')\n",
    "print(df1['flavor'].dtype)"
   ]
  },
  {
   "cell_type": "markdown",
   "id": "9eefe063-018c-4be3-9bd2-c4d86c694041",
   "metadata": {},
   "source": [
    "ext, I analyzed the agtron, and est_price columns since I felt these should also be numeric.\n",
    "<br>According to my original info() print out, agtron had ratio scoring, and the est_price column included price per unit verbage. Therefore, any missing values should be analyzed, but the category should not be changed."
   ]
  },
  {
   "cell_type": "code",
   "execution_count": 17,
   "id": "90916f05-43d7-4e86-b3db-5c7d3c786c89",
   "metadata": {},
   "outputs": [
    {
     "data": {
      "text/plain": [
       "/        257\n",
       "58/76    146\n",
       "58/78    125\n",
       "60/78    124\n",
       "0/0      107\n",
       "        ... \n",
       "29/52      1\n",
       "40/62      1\n",
       "40/65      1\n",
       "74/99      1\n",
       "30/39      1\n",
       "Name: agtron, Length: 1121, dtype: int64"
      ]
     },
     "execution_count": 17,
     "metadata": {},
     "output_type": "execute_result"
    }
   ],
   "source": [
    "df1['agtron'].value_counts()"
   ]
  },
  {
   "cell_type": "markdown",
   "id": "1a018232-787e-42fd-af9b-9c7546c679c1",
   "metadata": {},
   "source": [
    "The value_counts() function showed 257 entries with unuseable data (simply a / with no numbers). Since the second number in the ratio varied greatly, I did a google search of what an agtron rating was. It seems to be a ratio rating a coffee before and after grinding, so each unique ratio is a unique rating. I chose to drop the 257 unuseable entries, and leave the remaining data as-is for now."
   ]
  },
  {
   "cell_type": "markdown",
   "id": "3b01e323-eb15-4ed5-9106-a9a4a6866cf7",
   "metadata": {},
   "source": [
    "Finally, I calculated the summary statistics for each of the numeric columns to give me a starting point as I explored the data to find which three features most affected the coffee blend's rating."
   ]
  },
  {
   "cell_type": "code",
   "execution_count": 18,
   "id": "3b77dcd7-87f9-4a60-a7fc-90c29a1b7bbb",
   "metadata": {},
   "outputs": [
    {
     "data": {
      "text/html": [
       "<div>\n",
       "<style scoped>\n",
       "    .dataframe tbody tr th:only-of-type {\n",
       "        vertical-align: middle;\n",
       "    }\n",
       "\n",
       "    .dataframe tbody tr th {\n",
       "        vertical-align: top;\n",
       "    }\n",
       "\n",
       "    .dataframe thead th {\n",
       "        text-align: right;\n",
       "    }\n",
       "</style>\n",
       "<table border=\"1\" class=\"dataframe\">\n",
       "  <thead>\n",
       "    <tr style=\"text-align: right;\">\n",
       "      <th></th>\n",
       "      <th>count</th>\n",
       "      <th>mean</th>\n",
       "      <th>std</th>\n",
       "      <th>min</th>\n",
       "      <th>25%</th>\n",
       "      <th>50%</th>\n",
       "      <th>75%</th>\n",
       "      <th>max</th>\n",
       "    </tr>\n",
       "  </thead>\n",
       "  <tbody>\n",
       "    <tr>\n",
       "      <th>rating</th>\n",
       "      <td>7037.0</td>\n",
       "      <td>90.868126</td>\n",
       "      <td>4.121444</td>\n",
       "      <td>52.0</td>\n",
       "      <td>90.0</td>\n",
       "      <td>92.0</td>\n",
       "      <td>93.0</td>\n",
       "      <td>98.0</td>\n",
       "    </tr>\n",
       "    <tr>\n",
       "      <th>acidity_structure</th>\n",
       "      <td>2166.0</td>\n",
       "      <td>8.487535</td>\n",
       "      <td>0.629954</td>\n",
       "      <td>1.0</td>\n",
       "      <td>8.0</td>\n",
       "      <td>9.0</td>\n",
       "      <td>9.0</td>\n",
       "      <td>10.0</td>\n",
       "    </tr>\n",
       "    <tr>\n",
       "      <th>aftertaste</th>\n",
       "      <td>6169.0</td>\n",
       "      <td>7.968552</td>\n",
       "      <td>0.722743</td>\n",
       "      <td>2.0</td>\n",
       "      <td>8.0</td>\n",
       "      <td>8.0</td>\n",
       "      <td>8.0</td>\n",
       "      <td>10.0</td>\n",
       "    </tr>\n",
       "    <tr>\n",
       "      <th>aroma</th>\n",
       "      <td>6987.0</td>\n",
       "      <td>8.363189</td>\n",
       "      <td>0.912374</td>\n",
       "      <td>2.0</td>\n",
       "      <td>8.0</td>\n",
       "      <td>9.0</td>\n",
       "      <td>9.0</td>\n",
       "      <td>10.0</td>\n",
       "    </tr>\n",
       "    <tr>\n",
       "      <th>body</th>\n",
       "      <td>7026.0</td>\n",
       "      <td>8.095431</td>\n",
       "      <td>0.856112</td>\n",
       "      <td>4.0</td>\n",
       "      <td>8.0</td>\n",
       "      <td>8.0</td>\n",
       "      <td>9.0</td>\n",
       "      <td>10.0</td>\n",
       "    </tr>\n",
       "    <tr>\n",
       "      <th>flavor</th>\n",
       "      <td>7021.0</td>\n",
       "      <td>8.447728</td>\n",
       "      <td>0.997152</td>\n",
       "      <td>1.0</td>\n",
       "      <td>8.0</td>\n",
       "      <td>9.0</td>\n",
       "      <td>9.0</td>\n",
       "      <td>10.0</td>\n",
       "    </tr>\n",
       "  </tbody>\n",
       "</table>\n",
       "</div>"
      ],
      "text/plain": [
       "                    count       mean       std   min   25%   50%   75%   max\n",
       "rating             7037.0  90.868126  4.121444  52.0  90.0  92.0  93.0  98.0\n",
       "acidity_structure  2166.0   8.487535  0.629954   1.0   8.0   9.0   9.0  10.0\n",
       "aftertaste         6169.0   7.968552  0.722743   2.0   8.0   8.0   8.0  10.0\n",
       "aroma              6987.0   8.363189  0.912374   2.0   8.0   9.0   9.0  10.0\n",
       "body               7026.0   8.095431  0.856112   4.0   8.0   8.0   9.0  10.0\n",
       "flavor             7021.0   8.447728  0.997152   1.0   8.0   9.0   9.0  10.0"
      ]
     },
     "execution_count": 18,
     "metadata": {},
     "output_type": "execute_result"
    }
   ],
   "source": [
    "df1.describe().T"
   ]
  }
 ],
 "metadata": {
  "kernelspec": {
   "display_name": "Python 3 (ipykernel)",
   "language": "python",
   "name": "python3"
  },
  "language_info": {
   "codemirror_mode": {
    "name": "ipython",
    "version": 3
   },
   "file_extension": ".py",
   "mimetype": "text/x-python",
   "name": "python",
   "nbconvert_exporter": "python",
   "pygments_lexer": "ipython3",
   "version": "3.9.13"
  }
 },
 "nbformat": 4,
 "nbformat_minor": 5
}
